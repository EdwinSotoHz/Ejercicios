{
 "cells": [
  {
   "cell_type": "code",
   "execution_count": 1,
   "id": "e0e22c69-502a-4e44-9d9d-60aeedac6dde",
   "metadata": {},
   "outputs": [],
   "source": [
    "from math import comb, perm, factorial"
   ]
  },
  {
   "cell_type": "markdown",
   "id": "55de099e-6bf7-4233-be6c-f6e4a3ea1f36",
   "metadata": {},
   "source": [
    "### Ejercicio 9 \n",
    "*Sólo para practicar.* Los números telefónicos en la ciudad de Cuernavaca, Morelos, constan de siete dígitos.  \n",
    "**a)** ¿Cuántas líneas telefónicas pueden crearse en esa ciudad? Recuerda que no pueden comenzar con 0  \n",
    "**b)** Si los tres primeros dígitos representan una zona de Cuernavaca, ¿cuántas líneas telefónicas pertenecen a la zona 326?"
   ]
  },
  {
   "cell_type": "code",
   "execution_count": 2,
   "id": "8529ad9c-af94-47c4-a8d3-e34f48e53077",
   "metadata": {},
   "outputs": [
    {
     "name": "stdout",
     "output_type": "stream",
     "text": [
      "a) Líneas telefónicas que pueden crearse en la ciudad: 9000000\n",
      "b) Líneas telefónicas que pertenecen a la zona 326: 10000\n"
     ]
    }
   ],
   "source": [
    "'''\n",
    "Principio multiplicativo: (m formas) x (n formas subsecuentes) x (n formas subsecuentes) x ... x (l formas subsecuentes)\n",
    "    - Primer forma de proceder = primer espacio\n",
    "    - Enésima forma de proceder = enésimo espacio\n",
    "Nota: Se usa cuando se permite repetición de elementos\n",
    "'''\n",
    "#### a) #### \n",
    "#lineasPosibles =  9 * 10 * 10 * 10 * 10 * 10 * 10\n",
    "lineasPosibles =  9 * (10 ** 6)\n",
    "print(\"a) Líneas telefónicas que pueden crearse en la ciudad:\",lineasPosibles)\n",
    "\n",
    "#### b) ####\n",
    "#lineasPosibles362 =  1 * 10 * 10 * 10 * 10\n",
    "lineasPosibles362 =  1 * (10 ** 4)\n",
    "print(\"b) Líneas telefónicas que pertenecen a la zona 326:\", lineasPosibles362)"
   ]
  },
  {
   "cell_type": "markdown",
   "id": "b994a623-f49f-4bf2-bb18-ecad6aea442e",
   "metadata": {},
   "source": [
    "### Ejercicio 10\n",
    "*Sólo para practicar.* Se tiene la palabra MURCIÉLAGO. Si no se permiten repeticiones al usar las letras que la forman, determina:  \n",
    "**a)** El número de palabras que puedes crear.  \n",
    "**b)** El número de palabras con cinco letras.  \n",
    "**c)** La probabilidad de que una palabra de cinco letras termine en vocal."
   ]
  },
  {
   "cell_type": "code",
   "execution_count": 3,
   "id": "c4f8d7b2-0467-41f3-b956-9bd5538750b8",
   "metadata": {},
   "outputs": [
    {
     "name": "stdout",
     "output_type": "stream",
     "text": [
      "a) Número de palabras que se pueden crear: 3628800\n",
      "b) Número de palabras con cinco letras: 30240\n",
      "c) Probabilidad de que una palabra de cinco letras termine en vocal: 0.5\n"
     ]
    }
   ],
   "source": [
    "'''\n",
    "Permutaciones: Todas las formas de ordenar un conjunto de datos en el importa el orden.\n",
    "    - El número de permutaciones de n objetos distintos es n!\n",
    "    - Si se toman r elementos se usa la formula\n",
    "Nota: Se usa cuando NO hay repetición de elementos\n",
    "\n",
    "Probabilidad: P(E) = (Casos Favorables)/(Casos Totales)\n",
    "'''\n",
    "\n",
    "numeroLetras = len('MURCIÉLAGO')\n",
    "vocales = 5\n",
    "\n",
    "#### a) #### \n",
    "numeroPalabras = factorial(numeroLetras)\n",
    "print(\"a) Número de palabras que se pueden crear:\", numeroPalabras)\n",
    "\n",
    "#### b) #### \n",
    "numeroPalabras5Letras = perm(numeroLetras, 5)\n",
    "print(\"b) Número de palabras con cinco letras:\", numeroPalabras5Letras)\n",
    "\n",
    "#### c) #### \n",
    "numeroPalabras5LetrasVocal = perm(9, 4) * 5\n",
    "probabilidadTerminaEnVocal = numeroPalabras5LetrasVocal / numeroPalabras5Letras\n",
    "print(\"c) Probabilidad de que una palabra de cinco letras termine en vocal:\", probabilidadTerminaEnVocal)"
   ]
  },
  {
   "cell_type": "markdown",
   "id": "a085f9d9-131b-4991-98c3-c8c43073dfdc",
   "metadata": {},
   "source": [
    "### Ejercicio 11  \n",
    "*Parque vehicular.* La Ciudad de México tiene placas de automóviles con tres números seguidos por tres letras, es decir, son placas del tipo 999-AAA. Sin embargo, no pueden empezar con 0 (cero) ni se utilizan las letras I, O, Q y Ñ.  \n",
    "**a)** ¿Cuántas placas diferentes son posibles?  \n",
    "**b)** ¿Cuántas placas diferentes terminan en vocal?  \n",
    "**c)** ¿Cuál es la probabilidad de que una placa, elegida al azar, sea impar?  "
   ]
  },
  {
   "cell_type": "code",
   "execution_count": 4,
   "id": "7e750694-d920-469e-b1b7-1bd0dd8ab0b6",
   "metadata": {},
   "outputs": [
    {
     "name": "stdout",
     "output_type": "stream",
     "text": [
      "a) Placas diferentes son posibles: 10950300\n",
      "b) Placas diferentes que terminan en vocal: 1428300\n",
      "c) Probabilidad de que una placa, elegida al azar, sea impar: 0.5\n"
     ]
    }
   ],
   "source": [
    "'''\n",
    "Principio multiplicativo: (m formas) x (n formas subsecuentes) x (n formas subsecuentes) x ... x (l formas subsecuentes)\n",
    "    - Primer forma de proceder = primer espacio\n",
    "    - Enésima forma de proceder = enésimo espacio\n",
    "Nota: Se usa cuando se permite repetición de elementos\n",
    "\n",
    "Probabilidad: P(E) = (Casos Favorables)/(Casos Totales)\n",
    "'''\n",
    "letrasAbecedario = 27\n",
    "letrasExcluidas = 4\n",
    "letras = letrasAbecedario - letrasExcluidas\n",
    "\n",
    "#### a) #### \n",
    "numerosPosibles = 9 * 10 * 10\n",
    "letrasPosibles = letras * letras * letras\n",
    "placasPosibles = numerosPosibles * letrasPosibles\n",
    "print(\"a) Placas diferentes son posibles:\", placasPosibles)\n",
    "\n",
    "#### b) #### \n",
    "# Solo quedan 3 vocales A, E, U\n",
    "letrasPosibles = letras * letras * 3\n",
    "placasPosiblesVocal = numerosPosibles * letrasPosibles\n",
    "print(\"b) Placas diferentes que terminan en vocal:\", placasPosiblesVocal)\n",
    "\n",
    "#### c) ####\n",
    "# Hay 5 numeros pares [0, 2, 3, 4, 5] y 5 impares [1, 3, 5, 7, 9]\n",
    "# Mientras la placa termine en un numero impar toda la placa es impar, pero no inician con 0\n",
    "numerosPosiblesImpares = 9 * 10 * 5\n",
    "probabilidadImpar = numerosPosiblesImpares / numerosPosibles\n",
    "print(\"c) Probabilidad de que una placa, elegida al azar, sea impar:\", probabilidadImpar)"
   ]
  },
  {
   "cell_type": "markdown",
   "id": "008da4f4-94ce-4322-a24d-8604f33669a9",
   "metadata": {},
   "source": [
    "### Ejercicio 12  \n",
    "*Servicios restauranteros.* Una cadena de hamburguesas anuncia que se ofrecen 512 maneras de pedir una hamburguesa. Un cliente puede elegir cualquiera de estos ingredientes: cátsup, mostaza, mayonesa, aderezo de la casa, cebolla, pepinillos, jitomate, tocino y lechuga. ¿Crees que lo que afirma la empresa sea cierto? Justifica tu respuesta."
   ]
  },
  {
   "cell_type": "code",
   "execution_count": 5,
   "id": "93a3bfab-9424-47ae-b2b4-61758a6f82fb",
   "metadata": {},
   "outputs": [
    {
     "name": "stdout",
     "output_type": "stream",
     "text": [
      "La afirmación es cierta\n"
     ]
    }
   ],
   "source": [
    "'''\n",
    "Combinaciones: Todas las formas de ordenar un conjunto de datos en el NO importa el orden. (123 == 231)\n",
    "    - Se toman r elementos y se usa la formula\n",
    "Nota: Se usa cuando NO hay repetición de elementos\n",
    "'''\n",
    "\n",
    "afirmacion = 512\n",
    "# Hay 9 ingredientes, no se repiten ingredientes, y puede elejir de 0 a 9 ingredientes (al menos 0)\n",
    "comprobacion = comb(9, 9) + comb(9, 8) + comb(9, 7) + comb(9, 6) + comb(9, 5) + comb(9, 4) + comb(9, 3) + comb(9, 2) + comb(9, 1) + comb(9, 0)\n",
    "if afirmacion == comprobacion:\n",
    "    print(\"La afirmación es cierta\")\n",
    "else:\n",
    "    print(\"La afirmación no es cierta\", comprobacion)"
   ]
  },
  {
   "cell_type": "markdown",
   "id": "ffa24599-3b4a-4f0b-a8f6-d84b0a637654",
   "metadata": {},
   "source": [
    "### Ejercicio 13\n",
    "*Cultura.* Una persona tiene un libro de cada uno de los autores siguientes: Mario Vargas Llosa, Alberto Ruy Sánchez, Gabriel García Márquez, Günther Grass, Patrick Süskind, Heinrich Böll, Arturo Pérez-Reverte y Camilo José Cela. Como aún no los ha leído, quiere ponerlos en una repisa cerca de su cama. De acuerdo con esto, determina:  \n",
    "**a)** ¿De cuántas formas puede acomodar los libros sobre la repisa?  \n",
    "**b)** ¿De cuántas maneras puede ordenarlos si quiere que los libros de autores latinoamericanos estén juntos?  \n",
    "**c)** ¿De cuántas formas puede acomodarlos, si los autores latinoamericanos deben estar juntos, así como los autores alemanes y los españoles también?  \n",
    "**d)** Determina las probabilidades correspondientes a los incisos (b) y (c).  "
   ]
  },
  {
   "cell_type": "code",
   "execution_count": 6,
   "id": "a047d8a5-a6ed-474f-8932-794dd8455f1a",
   "metadata": {},
   "outputs": [
    {
     "name": "stdout",
     "output_type": "stream",
     "text": [
      "a) Formas en que se pueden acomodar los libros sobre la repisa: 40320\n",
      "b) Formas en que se pueden acomodar si quiere que los autores latinoamericanos estén juntos: 10080\n",
      "c) Formas de acomodar si quiere que los autores latinoamericanos estén juntos y alemanes y los españoles también: 432\n",
      "d) Probabilidad inciso B: 0.25\n",
      "   Probabilidad inciso C: 0.010714285714285714\n"
     ]
    }
   ],
   "source": [
    "'''\n",
    "Permutaciones: Todas las formas de ordenar un conjunto de datos en el importa el orden.\n",
    "    - El número de permutaciones de n objetos distintos es n!\n",
    "    - Si se toman r elementos se usa la formula\n",
    "Nota: Se usa cuando NO hay repetición de elementos\n",
    "\n",
    "El principio multiplicativo aunque  de diferente forma se aplica igualmente\n",
    "'''\n",
    "# Hay 8 autores y 8 libros\n",
    "\n",
    "#### a) ####\n",
    "formasTotalesAcomodar = factorial(8)\n",
    "print(\"a) Formas en que se pueden acomodar los libros sobre la repisa:\", formasTotalesAcomodar)\n",
    "\n",
    "#### b) ####\n",
    "# 2 autores son latinos, como deben de estar juntos los tomamos como un elemento\n",
    "formasTotalesAcomodarLatinos = factorial(7) * factorial(2)\n",
    "print(\"b) Formas en que se pueden acomodar si quiere que los autores latinoamericanos estén juntos:\", formasTotalesAcomodarLatinos)\n",
    "\n",
    "#### c) ####\n",
    "# 2 autores son latinos, 3 son españoles y 3 son alemanes\n",
    "formasTotalesAcomodarLaEsAl = (factorial(2) * factorial(3) * factorial(3)) * factorial(3)\n",
    "print(\"c) Formas de acomodar si quiere que los autores latinoamericanos estén juntos y alemanes y los españoles también:\", formasTotalesAcomodarLaEsAl)\n",
    "\n",
    "#### d) ####\n",
    "probabilidadB = formasTotalesAcomodarLatinos / formasTotalesAcomodar\n",
    "probabilidadC = formasTotalesAcomodarLaEsAl / formasTotalesAcomodar\n",
    "print(\"d) Probabilidad inciso B:\", probabilidadB)\n",
    "print(\"   Probabilidad inciso C:\", probabilidadC)"
   ]
  },
  {
   "cell_type": "markdown",
   "id": "2335252f-c957-4164-ac85-ff4b44868eca",
   "metadata": {},
   "source": [
    "### Ejercicio 14  \n",
    "*Finanzas.* Se va a formar un portafolio de inversión de cuatro instrumentos financieros a partir de cinco de renta fija y seis de renta variable. ¿De cuántas maneras podría formarse el portafolio si:  \n",
    "**a)** No hay restricciones?  \n",
    "**b)** Debe haber dos instrumentos de renta fija y dos de renta variable?  \n",
    "**c)** No debe haber ningún instrumento de renta fija?  \n",
    "**d)** Debe haber tres instrumentos de renta fija?  \n",
    "**e)** Calcula las probabilidades para los incisos anteriores.  "
   ]
  },
  {
   "cell_type": "code",
   "execution_count": 7,
   "id": "382d803a-0316-4e0a-849b-12d58299ac64",
   "metadata": {},
   "outputs": [
    {
     "name": "stdout",
     "output_type": "stream",
     "text": [
      "a) No hay restricciones: 330\n",
      "b) Hay dos instrumentos de renta fija y dos de renta variable: 150\n",
      "c) No debe haber ningún instrumento de renta fija: 15\n",
      "d) Debe haber tres instrumentos de renta fija: 60\n",
      "e) Probabilidad inciso A: 1.0\n",
      "   Probabilidad inciso B: 0.45454545454545453\n",
      "   Probabilidad inciso C: 0.045454545454545456\n",
      "   Probabilidad inciso D: 0.18181818181818182\n"
     ]
    }
   ],
   "source": [
    "'''\n",
    "Combinaciones: Todas las formas de ordenar un conjunto de datos en el NO importa el orden. (123 == 231)\n",
    "    - Se toman r elementos y se usa la formula\n",
    "Nota: Se usa cuando NO hay repetición de elementos\n",
    "\n",
    "El principio multiplicativo aunque  de diferente forma se aplica igualmente\n",
    "\n",
    "Probabilidad: P(E) = (Casos Favorables)/(Casos Totales)\n",
    "'''\n",
    "\n",
    "# 5 renta fija y 6 renta variable\n",
    "\n",
    "#### a) ####\n",
    "formasPortaforlioTotales = comb(11, 4)\n",
    "print(\"a) No hay restricciones:\", formasPortaforlioTotales)\n",
    "\n",
    "#### b) ####\n",
    "formasPortaforlio2RF2RV = comb(5, 2) * comb(6, 2)\n",
    "print(\"b) Hay dos instrumentos de renta fija y dos de renta variable:\", formasPortaforlio2RF2RV)\n",
    "\n",
    "#### c) ####\n",
    "formasPortaforlioNoRF = comb(5, 0) * comb(6, 4)\n",
    "print(\"c) No debe haber ningún instrumento de renta fija:\", formasPortaforlioNoRF)\n",
    "\n",
    "#### d) ####\n",
    "formasPortaforlio3RF =  comb(5, 3) * comb(6, 1)\n",
    "print(\"d) Debe haber tres instrumentos de renta fija:\", formasPortaforlio3RF)\n",
    "\n",
    "#### e) ####\n",
    "probabilidadEA = formasPortaforlioTotales / formasPortaforlioTotales\n",
    "probabilidadEB = formasPortaforlio2RF2RV / formasPortaforlioTotales\n",
    "probabilidadEC = formasPortaforlioNoRF / formasPortaforlioTotales\n",
    "probabilidadED = formasPortaforlio3RF / formasPortaforlioTotales\n",
    "print(\"e) Probabilidad inciso A:\", probabilidadEA)\n",
    "print(\"   Probabilidad inciso B:\", probabilidadEB)\n",
    "print(\"   Probabilidad inciso C:\", probabilidadEC)\n",
    "print(\"   Probabilidad inciso D:\", probabilidadED)"
   ]
  },
  {
   "cell_type": "markdown",
   "id": "87ca7e3c-da96-440c-8750-6b09c0b3fed4",
   "metadata": {},
   "source": [
    "### Ejercicio 15  \n",
    "*Futbol.* Tres parejas (tres hombres y tres mujeres) compran boletos para ir a un partido de los Pumas. Cuando llegan al estadio de Ciudad Universitaria les surge la duda de cómo sentarse en  la fila. ¿De cuántas maneras pueden hacerlo si:  \n",
    "**a)** No hay restricciones?  \n",
    "**b)** Los hombres deben sentarse juntos?  \n",
    "**c)** Deben sentarse por parejas?   \n",
    "**d)** ¿Cuál es la probabilidad de cada uno de los eventos descritos en los incisos anteriores?  "
   ]
  },
  {
   "cell_type": "code",
   "execution_count": 8,
   "id": "026a08ea-a220-46d1-b07f-ede9bd722362",
   "metadata": {},
   "outputs": [
    {
     "name": "stdout",
     "output_type": "stream",
     "text": [
      "a) No hay restricciones: 720\n",
      "b) Los hombres deben sentarse juntos: 144\n",
      "c) Deben sentarse por parejas: 12\n",
      "d) Probabilidad inciso A: 1.0\n",
      "   Probabilidad inciso B: 0.2\n",
      "   Probabilidad inciso C: 0.016666666666666666\n"
     ]
    }
   ],
   "source": [
    "'''\n",
    "Permutaciones: Todas las formas de ordenar un conjunto de datos en el importa el orden.\n",
    "    - El número de permutaciones de n objetos distintos es n!\n",
    "    - Si se toman r elementos se usa la formula\n",
    "Nota: Se usa cuando NO hay repetición de elementos\n",
    "\n",
    "El principio multiplicativo aunque  de diferente forma se aplica igualmente\n",
    "\n",
    "Probabilidad: P(E) = (Casos Favorables)/(Casos Totales)\n",
    "'''\n",
    "\n",
    "# Hay 3 hombres y 3 mujeres)\n",
    "\n",
    "#### a) ####\n",
    "formasTotales = factorial(6)\n",
    "print(\"a) No hay restricciones:\", formasTotales)\n",
    "\n",
    "#### b) ####\n",
    "formasHomJuntos = factorial(4) * factorial(3)\n",
    "print(\"b) Los hombres deben sentarse juntos:\", formasHomJuntos)\n",
    "\n",
    "#### c) ####\n",
    "formasParejas = factorial(3) * factorial(2)\n",
    "print(\"c) Deben sentarse por parejas:\", formasParejas)\n",
    "\n",
    "#### d) ####\n",
    "probabilidadDA = formasTotales / formasTotales\n",
    "probabilidadDB = formasHomJuntos / formasTotales\n",
    "probabilidadDC = formasParejas / formasTotales\n",
    "print(\"d) Probabilidad inciso A:\", probabilidadDA)\n",
    "print(\"   Probabilidad inciso B:\", probabilidadDB)\n",
    "print(\"   Probabilidad inciso C:\", probabilidadDC)"
   ]
  },
  {
   "cell_type": "markdown",
   "id": "b3a18ea9-4048-4066-99fe-b5e2bc5c8408",
   "metadata": {},
   "source": [
    "### Ejercicio 16  \n",
    "*Trabajo en equipo.* En un grupo de 25 alumnos hay 13 chicas y 12 chicos. Se desean formar equipos de trabajo para realizar una investigación:  \n",
    "**a)** ¿Cuántos equipos de cinco personas pueden formarse?  \n",
    "**b)** ¿Cuántos equipos pueden formarse si debe haber una chica?  \n",
    "**c)** ¿Cuántos equipos pueden formarse si debe haber dos chicas?  \n",
    "**d)** Determina las probabilidades correspondientes a los incisos anteriores."
   ]
  },
  {
   "cell_type": "code",
   "execution_count": 9,
   "id": "68cf6ab5-0674-455c-8b70-41979727bdd9",
   "metadata": {},
   "outputs": [
    {
     "name": "stdout",
     "output_type": "stream",
     "text": [
      "a) Equipos de cinco personas que pueden formarse: 53130\n",
      "b) Equipos que pueden formarse si debe haber una chica: 6435\n",
      "b) Equipos que pueden formarse si debe haber dos chicas: 17160\n",
      "d) Probabilidad inciso A: 1.0\n",
      "   Probabilidad inciso B: 0.12111801242236025\n",
      "   Probabilidad inciso C: 0.32298136645962733\n"
     ]
    }
   ],
   "source": [
    "'''\n",
    "Combinaciones: Todas las formas de ordenar un conjunto de datos en el NO importa el orden. (123 == 231)\n",
    "    - Se toman r elementos y se usa la formula\n",
    "Nota: Se usa cuando NO hay repetición de elementos\n",
    "\n",
    "El principio multiplicativo aunque  de diferente forma se aplica igualmente\n",
    "\n",
    "Probabilidad: P(E) = (Casos Favorables)/(Casos Totales)\n",
    "'''\n",
    "\n",
    "# 25 alumnos hay 13 chicas y 12 chicos\n",
    "\n",
    "#### a) ####\n",
    "equiposCinco = comb(25, 5)\n",
    "print(\"a) Equipos de cinco personas que pueden formarse:\", equiposCinco)\n",
    "\n",
    "#### b) ####\n",
    "equiposCincoUnaChica = comb(12, 4) * comb(13, 1)\n",
    "print(\"b) Equipos que pueden formarse si debe haber una chica:\", equiposCincoUnaChica)\n",
    "\n",
    "#### c) ####\n",
    "equiposCincoDosChicas = comb(12, 3) * comb(13, 2)\n",
    "print(\"b) Equipos que pueden formarse si debe haber dos chicas:\", equiposCincoDosChicas)\n",
    "\n",
    "\n",
    "#### d) ####\n",
    "probabilidadEqA = equiposCinco / equiposCinco\n",
    "probabilidadEqB = equiposCincoUnaChica / equiposCinco\n",
    "probabilidadEqC = equiposCincoDosChicas / equiposCinco\n",
    "print(\"d) Probabilidad inciso A:\", probabilidadEqA)\n",
    "print(\"   Probabilidad inciso B:\", probabilidadEqB)\n",
    "print(\"   Probabilidad inciso C:\", probabilidadEqC)"
   ]
  },
  {
   "cell_type": "markdown",
   "id": "2e6c3d2f-dfee-4ed3-bba0-0f78c7dc1f55",
   "metadata": {},
   "source": [
    "### Ejercicio  17\n",
    "*Control de calidad.* Se tiene una caja con 24 latas y se sabe que dos están contaminadas. Se van a seleccionar tres latas al azar para someterlas a una prueba de control de calidad, es decir, para medir los estándares de calidad de la empresa.  \n",
    "**a)** ¿Cuántas combinaciones de tres latas pueden hacerse?  \n",
    "**b)** ¿Cuál es la probabilidad de que se seleccione una lata contaminada para la prueba?  \n",
    "**c)** ¿Cuál es la probabilidad de que se seleccione al menos una lata contaminada para la prueba?  \n",
    "**d)** ¿Y la probabilidad de que no se elijan latas contaminadas para la prueba?  "
   ]
  },
  {
   "cell_type": "code",
   "execution_count": 10,
   "id": "8a1fb561-8957-4432-9177-11fea0992e4e",
   "metadata": {},
   "outputs": [
    {
     "name": "stdout",
     "output_type": "stream",
     "text": [
      "a) Combinaciones de tres latas que pueden hacerse: 2024\n",
      "b) Probabilidad de que se seleccione una lata contaminada: 0.22826086956521738\n",
      "c) Probabilidad de que se seleccione al menos una lata contaminada: 0.23913043478260868\n",
      "d) Probabilidad de de que no se elijan latas contaminadas: 0.7608695652173914\n"
     ]
    }
   ],
   "source": [
    "'''\n",
    "Combinaciones: Todas las formas de ordenar un conjunto de datos en el NO importa el orden. (123 == 231)\n",
    "    - Se toman r elementos y se usa la formula\n",
    "Nota: Se usa cuando NO hay repetición de elementos\n",
    "\n",
    "El principio multiplicativo aunque  de diferente forma se aplica igualmente\n",
    "\n",
    "Probabilidad: P(E) = (Casos Favorables)/(Casos Totales)\n",
    "'''\n",
    "\n",
    "# hay 22 latas bien y 2 están contaminadas\n",
    "# se seleccionan 3 latas\n",
    "\n",
    "#### a) ####\n",
    "combinacionesTotales = comb(24, 3)\n",
    "print(\"a) Combinaciones de tres latas que pueden hacerse:\", combinacionesTotales)\n",
    "\n",
    "#### b) ####\n",
    "combinacionesUnaLataContam = comb(22, 2) * comb(2, 1)\n",
    "probabilidadLataContam = combinacionesUnaLataContam / combinacionesTotales\n",
    "print(\"b) Probabilidad de que se seleccione una lata contaminada:\", probabilidadLataContam)\n",
    "\n",
    "#### c) ####\n",
    "combinacionesDosLataContam = comb(22, 1) * comb(2, 2)\n",
    "probabilidadDosLatasContam = combinacionesDosLataContam / combinacionesTotales\n",
    "probabilidadAlMenosUnaLataContam = probabilidadLataContam + probabilidadDosLatasContam\n",
    "print(\"c) Probabilidad de que se seleccione al menos una lata contaminada:\", probabilidadAlMenosUnaLataContam)\n",
    "\n",
    "#### d) ####\n",
    "combinacionesLatasNoContam = comb(22, 3) * comb(2, 0)\n",
    "probabilidadLatasNoContam = combinacionesLatasNoContam / combinacionesTotales\n",
    "print(\"d) Probabilidad de de que no se elijan latas contaminadas:\", probabilidadLatasNoContam)"
   ]
  }
 ],
 "metadata": {
  "kernelspec": {
   "display_name": "Python 3 (ipykernel)",
   "language": "python",
   "name": "python3"
  },
  "language_info": {
   "codemirror_mode": {
    "name": "ipython",
    "version": 3
   },
   "file_extension": ".py",
   "mimetype": "text/x-python",
   "name": "python",
   "nbconvert_exporter": "python",
   "pygments_lexer": "ipython3",
   "version": "3.12.3"
  }
 },
 "nbformat": 4,
 "nbformat_minor": 5
}
